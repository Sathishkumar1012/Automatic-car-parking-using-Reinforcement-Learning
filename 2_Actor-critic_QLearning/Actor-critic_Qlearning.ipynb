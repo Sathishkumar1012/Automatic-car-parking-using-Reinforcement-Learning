{
  "nbformat": 4,
  "nbformat_minor": 0,
  "metadata": {
    "colab": {
      "name": "Module 2, 3 & 4.ipynb",
      "provenance": [],
      "collapsed_sections": []
    },
    "kernelspec": {
      "display_name": "Python 3",
      "name": "python3"
    },
    "language_info": {
      "name": "python"
    }
  },
  "cells": [
    {
      "cell_type": "markdown",
      "metadata": {
        "id": "ITBAZk38IuPX"
      },
      "source": [
        "#Modules 2, 3 and 4 - Project"
      ]
    },
    {
      "cell_type": "code",
      "metadata": {
        "colab": {
          "base_uri": "https://localhost:8080/"
        },
        "id": "iwTh7tsSEhFf",
        "outputId": "a56ba16d-aa9f-4bf2-d378-0dfb7b4577fd"
      },
      "source": [
        "import gym\n",
        "import pandas as pd\n",
        "import torch\n",
        "\n",
        "env = gym.make(\"Taxi-v3\").env\n",
        "\n",
        "env.render()"
      ],
      "execution_count": null,
      "outputs": [
        {
          "output_type": "stream",
          "text": [
            "+---------+\n",
            "|R: | : :\u001b[34;1mG\u001b[0m|\n",
            "| :\u001b[43m \u001b[0m| : : |\n",
            "| : : : : |\n",
            "| | : | : |\n",
            "|Y| : |\u001b[35mB\u001b[0m: |\n",
            "+---------+\n",
            "\n"
          ],
          "name": "stdout"
        }
      ]
    },
    {
      "cell_type": "code",
      "metadata": {
        "colab": {
          "base_uri": "https://localhost:8080/"
        },
        "id": "ZizD7nAlEkLY",
        "outputId": "63a3587b-7c9f-4ba8-c3b0-5400b8a14daf"
      },
      "source": [
        "env.reset() # reset environment to a new, random state\n",
        "env.render()\n",
        "\n",
        "print(\"Action Space {}\".format(env.action_space))\n",
        "print(\"State Space {}\".format(env.observation_space))"
      ],
      "execution_count": null,
      "outputs": [
        {
          "output_type": "stream",
          "text": [
            "+---------+\n",
            "|R: | : :G|\n",
            "| : | : : |\n",
            "| : : : : |\n",
            "| |\u001b[43m \u001b[0m: | : |\n",
            "|\u001b[34;1mY\u001b[0m| : |\u001b[35mB\u001b[0m: |\n",
            "+---------+\n",
            "\n",
            "Action Space Discrete(6)\n",
            "State Space Discrete(500)\n"
          ],
          "name": "stdout"
        }
      ]
    },
    {
      "cell_type": "code",
      "metadata": {
        "id": "qCmQZ84ndliw"
      },
      "source": [
        "# exploit vs explore to find action\n",
        "# Start with 70% random actions to explore the environment\n",
        "# And with time, using decay to shift to more optimal actions learned from experience\n",
        "\n",
        "egreedy = 0.7\n",
        "egreedy_final = 0.1\n",
        "egreedy_decay = 0.999\n",
        "egreedy_total = []\n",
        "steps_total = []"
      ],
      "execution_count": null,
      "outputs": []
    },
    {
      "cell_type": "code",
      "metadata": {
        "colab": {
          "base_uri": "https://localhost:8080/"
        },
        "id": "9QuiKbCid-zL",
        "outputId": "747a93db-3784-42e9-b79d-463dc44f9393"
      },
      "source": [
        "#6 possible actions and 500 possible states\n",
        "\n",
        "Q = torch.zeros([500, 6])\n",
        "Q"
      ],
      "execution_count": null,
      "outputs": [
        {
          "output_type": "execute_result",
          "data": {
            "text/plain": [
              "tensor([[0., 0., 0., 0., 0., 0.],\n",
              "        [0., 0., 0., 0., 0., 0.],\n",
              "        [0., 0., 0., 0., 0., 0.],\n",
              "        ...,\n",
              "        [0., 0., 0., 0., 0., 0.],\n",
              "        [0., 0., 0., 0., 0., 0.],\n",
              "        [0., 0., 0., 0., 0., 0.]])"
            ]
          },
          "metadata": {
            "tags": []
          },
          "execution_count": 4
        }
      ]
    },
    {
      "cell_type": "code",
      "metadata": {
        "colab": {
          "base_uri": "https://localhost:8080/"
        },
        "id": "0WgfCXxcEl70",
        "outputId": "2aa887c7-5cf4-48dd-bb1d-5b5c5be0d7de"
      },
      "source": [
        "state = env.encode(3, 1, 2, 0) # (taxi row, taxi column, passenger index, destination index)\n",
        "print(\"State:\", state)\n",
        "\n",
        "env.s = state\n",
        "env.render()"
      ],
      "execution_count": null,
      "outputs": [
        {
          "output_type": "stream",
          "text": [
            "State: 328\n",
            "+---------+\n",
            "|\u001b[35mR\u001b[0m: | : :G|\n",
            "| : | : : |\n",
            "| : : : : |\n",
            "| |\u001b[43m \u001b[0m: | : |\n",
            "|\u001b[34;1mY\u001b[0m| : |B: |\n",
            "+---------+\n",
            "\n"
          ],
          "name": "stdout"
        }
      ]
    },
    {
      "cell_type": "code",
      "metadata": {
        "colab": {
          "base_uri": "https://localhost:8080/"
        },
        "id": "rFzu-YH8ErJo",
        "outputId": "938af28a-7b47-46c3-d483-eca0bdb1a5cf"
      },
      "source": [
        "env.P[328]"
      ],
      "execution_count": null,
      "outputs": [
        {
          "output_type": "execute_result",
          "data": {
            "text/plain": [
              "{0: [(1.0, 428, -1, False)],\n",
              " 1: [(1.0, 228, -1, False)],\n",
              " 2: [(1.0, 348, -1, False)],\n",
              " 3: [(1.0, 328, -1, False)],\n",
              " 4: [(1.0, 328, -10, False)],\n",
              " 5: [(1.0, 328, -10, False)]}"
            ]
          },
          "metadata": {
            "tags": []
          },
          "execution_count": 6
        }
      ]
    },
    {
      "cell_type": "code",
      "metadata": {
        "colab": {
          "base_uri": "https://localhost:8080/"
        },
        "id": "tr2e8zylEuEp",
        "outputId": "70e8551c-ff29-44cd-ac67-ffe4b9f44233"
      },
      "source": [
        "env.s = 328  # set environment to illustration's state\n",
        "\n",
        "epochs = 0\n",
        "penalties, reward = 0, 0\n",
        "\n",
        "frames = [] # for animation\n",
        "egreedy_total = []\n",
        "\n",
        "done = False\n",
        "step = 0\n",
        "\n",
        "while not done:\n",
        "\n",
        "    random_for_egreedy = torch.rand(1)[0]\n",
        "\n",
        "    if random_for_egreedy > egreedy:      \n",
        "        random_values = Q[state] + torch.rand(1,6) / 1000      \n",
        "        action = torch.max(random_values,1)[1][0]  \n",
        "        action = action.item()\n",
        "    else:\n",
        "        action = env.action_space.sample()\n",
        "            \n",
        "    if egreedy > egreedy_final:\n",
        "        egreedy *= egreedy_decay\n",
        "\n",
        "    state, reward, done, info = env.step(action)\n",
        "\n",
        "    if reward == -10:\n",
        "        penalties += 1\n",
        "    \n",
        "\n",
        "    egreedy_total.append(egreedy)\n",
        "    # Put each rendered frame into dict for animation\n",
        "    frames.append({\n",
        "        'frame': env.render(mode='ansi'),\n",
        "        'state': state,\n",
        "        'action': action,\n",
        "        'reward': reward\n",
        "        }\n",
        "    )\n",
        "\n",
        "    epochs += 1\n",
        "    \n",
        "    \n",
        "print(\"Timesteps taken: {}\".format(epochs))\n",
        "print(\"Penalties incurred: {}\".format(penalties))"
      ],
      "execution_count": null,
      "outputs": [
        {
          "output_type": "stream",
          "text": [
            "Timesteps taken: 1114\n",
            "Penalties incurred: 367\n"
          ],
          "name": "stdout"
        }
      ]
    },
    {
      "cell_type": "code",
      "metadata": {
        "id": "5ITj6mjKNNTG"
      },
      "source": [
        "import matplotlib.pyplot as plt\n",
        "import seaborn as sns\n",
        "sns.set()"
      ],
      "execution_count": null,
      "outputs": []
    },
    {
      "cell_type": "code",
      "metadata": {
        "colab": {
          "base_uri": "https://localhost:8080/",
          "height": 338
        },
        "id": "C_f4Gq-Te5eo",
        "outputId": "8602e396-5b8d-4de5-ea55-4b85e81e01d7"
      },
      "source": [
        "plt.figure(figsize=(12,5))\n",
        "plt.title(\"Egreedy value\")\n",
        "plt.bar(torch.arange(len(egreedy_total)), egreedy_total, alpha=0.6, color='blue', width=5)\n",
        "plt.show()"
      ],
      "execution_count": null,
      "outputs": [
        {
          "output_type": "display_data",
          "data": {
            "image/png": "[encoded data removed]",
            "text/plain": [
              "<Figure size 864x360 with 1 Axes>"
            ]
          },
          "metadata": {
            "tags": []
          }
        }
      ]
    },
    {
      "cell_type": "code",
      "metadata": {
        "id": "kVp22R2FEw7i"
      },
      "source": [
        "from IPython.display import clear_output\n",
        "from time import sleep\n",
        "\n",
        "def print_frames(frames):\n",
        "    for i, frame in enumerate(frames):\n",
        "        clear_output(wait=True)\n",
        "        print(frame['frame'])\n",
        "        print(f\"Timestep: {i + 1}\")\n",
        "        print(f\"State: {frame['state']}\")\n",
        "        print(f\"Action: {frame['action']}\")\n",
        "        print(f\"Reward: {frame['reward']}\")\n",
        "        #sleep(.1) "
      ],
      "execution_count": null,
      "outputs": []
    },
    {
      "cell_type": "code",
      "metadata": {
        "colab": {
          "base_uri": "https://localhost:8080/"
        },
        "id": "2gu4DWVdIUJi",
        "outputId": "6d39ac17-c7a2-4063-e0c8-b6ccfc4fff1a"
      },
      "source": [
        "print_frames(frames)"
      ],
      "execution_count": null,
      "outputs": [
        {
          "output_type": "stream",
          "text": [
            "+---------+\n",
            "|\u001b[35m\u001b[34;1m\u001b[43mR\u001b[0m\u001b[0m\u001b[0m: | : :G|\n",
            "| : | : : |\n",
            "| : : : : |\n",
            "| | : | : |\n",
            "|Y| : |B: |\n",
            "+---------+\n",
            "  (Dropoff)\n",
            "\n",
            "Timestep: 1114\n",
            "State: 0\n",
            "Action: 5\n",
            "Reward: 20\n"
          ],
          "name": "stdout"
        }
      ]
    },
    {
      "cell_type": "code",
      "metadata": {
        "id": "2XwEiAEnNnMU"
      },
      "source": [
        "def show_rewards_over_time(timesteps, cumulative_rewards, frames):\n",
        "\n",
        "  cumulative_reward = 0\n",
        "\n",
        "  for i, frame in enumerate(frames):\n",
        "      timesteps.append(i)\n",
        "      cumulative_reward += frame['reward']\n",
        "      cumulative_rewards.append(cumulative_reward)\n",
        "\n",
        "  plt.plot(timesteps, cumulative_rewards)\n",
        "  plt.legend('Reward', ncol=2, loc='upper left');"
      ],
      "execution_count": null,
      "outputs": []
    },
    {
      "cell_type": "code",
      "metadata": {
        "colab": {
          "base_uri": "https://localhost:8080/",
          "height": 285
        },
        "id": "SK_0dvLhN_lt",
        "outputId": "afe50908-9494-4e06-a9df-7fbe533ee752"
      },
      "source": [
        "timesteps = []\n",
        "cumulative_rewards = []\n",
        "\n",
        "print(\"Cumulative reward before training keeps decreasing over time.\")\n",
        "\n",
        "show_rewards_over_time(timesteps, cumulative_rewards, frames)"
      ],
      "execution_count": null,
      "outputs": [
        {
          "output_type": "stream",
          "text": [
            "Cumulative reward before training keeps decreasing over time.\n"
          ],
          "name": "stdout"
        },
        {
          "output_type": "display_data",
          "data": {
            "image/png": "[encoded data removed]",
            "text/plain": [
              "<Figure size 432x288 with 1 Axes>"
            ]
          },
          "metadata": {
            "tags": []
          }
        }
      ]
    },
    {
      "cell_type": "markdown",
      "metadata": {
        "id": "sM2dAXI-LYqT"
      },
      "source": [
        "#Training our model using Q-Learning"
      ]
    },
    {
      "cell_type": "code",
      "metadata": {
        "id": "8EpZ9aDfFLSF"
      },
      "source": [
        "import numpy as np\n",
        "q_table = np.zeros([env.observation_space.n, env.action_space.n])"
      ],
      "execution_count": null,
      "outputs": []
    },
    {
      "cell_type": "code",
      "metadata": {
        "colab": {
          "base_uri": "https://localhost:8080/"
        },
        "id": "uOU2cfTIFQft",
        "outputId": "790350a1-46b6-445e-de1c-04de0338e3eb"
      },
      "source": [
        "%%time\n",
        "\"\"\"Training the agent\"\"\"\n",
        "\n",
        "import random\n",
        "from IPython.display import clear_output\n",
        "\n",
        "# Hyperparameters\n",
        "alpha = 0.1\n",
        "gamma = 0.6\n",
        "epsilon = 0.1\n",
        "\n",
        "# For plotting metrics\n",
        "all_epochs = []\n",
        "all_penalties = []\n",
        "steps_total = []\n",
        "\n",
        "for i in range(1, 100001):\n",
        "    state = env.reset()\n",
        "\n",
        "    epochs, penalties, reward, = 0, 0, 0\n",
        "    done = False\n",
        "    \n",
        "    while not done:\n",
        "        if random.uniform(0, 1) < epsilon:\n",
        "            action = env.action_space.sample() # Explore action space\n",
        "        else:\n",
        "            action = np.argmax(q_table[state]) # Exploit learned values\n",
        "\n",
        "        next_state, reward, done, info = env.step(action) \n",
        "        \n",
        "        old_value = q_table[state, action]\n",
        "        next_max = np.max(q_table[next_state])\n",
        "        \n",
        "        new_value = (1 - alpha) * old_value + alpha * (reward + gamma * next_max)\n",
        "        q_table[state, action] = new_value\n",
        "\n",
        "        if reward == -10:\n",
        "            penalties += 1\n",
        "\n",
        "        state = next_state\n",
        "        epochs += 1\n",
        "        step += 1\n",
        "        \n",
        "    if i % 100 == 0:\n",
        "        clear_output(wait=True)\n",
        "        print(f\"Episode: {i}\")\n",
        "        steps_total.append(step)\n",
        "        step = 0\n",
        "\n",
        "print(\"Training finished.\\n\")"
      ],
      "execution_count": null,
      "outputs": [
        {
          "output_type": "stream",
          "text": [
            "Episode: 100000\n",
            "Training finished.\n",
            "\n",
            "CPU times: user 1min 10s, sys: 14.6 s, total: 1min 25s\n",
            "Wall time: 1min 13s\n"
          ],
          "name": "stdout"
        }
      ]
    },
    {
      "cell_type": "code",
      "metadata": {
        "colab": {
          "base_uri": "https://localhost:8080/"
        },
        "id": "u_bYFBAEFQ5H",
        "outputId": "4913db84-c3f3-45c8-f2d4-91fa00f19103"
      },
      "source": [
        "q_table[328]"
      ],
      "execution_count": null,
      "outputs": [
        {
          "output_type": "execute_result",
          "data": {
            "text/plain": [
              "array([ -2.39913543,  -2.27325184,  -2.40416785,  -2.35775361,\n",
              "       -10.80692507, -11.20454422])"
            ]
          },
          "metadata": {
            "tags": []
          },
          "execution_count": 16
        }
      ]
    },
    {
      "cell_type": "code",
      "metadata": {
        "colab": {
          "base_uri": "https://localhost:8080/"
        },
        "id": "B1VqiJzsjosu",
        "outputId": "0ecf7ad0-16c0-45b3-fa30-372d11144c4f"
      },
      "source": [
        "q_table"
      ],
      "execution_count": null,
      "outputs": [
        {
          "output_type": "execute_result",
          "data": {
            "text/plain": [
              "array([[  0.        ,   0.        ,   0.        ,   0.        ,\n",
              "          0.        ,   0.        ],\n",
              "       [ -2.41837065,  -2.3639511 ,  -2.41837065,  -2.36395108,\n",
              "         -2.27325184, -11.36395053],\n",
              "       [ -1.870144  ,  -1.45024001,  -1.87014399,  -1.45024001,\n",
              "         -0.7504    , -10.45023872],\n",
              "       ...,\n",
              "       [ -1.0457663 ,   0.41599999,  -1.13712957,  -1.25684087,\n",
              "         -5.72866146,  -6.539345  ],\n",
              "       [ -2.15805802,  -2.12204743,  -2.14597216,  -2.1220433 ,\n",
              "         -8.18593458,  -6.31135086],\n",
              "       [  3.96097133,   1.36975014,   4.38730485,  11.        ,\n",
              "         -1.85472498,  -2.25208762]])"
            ]
          },
          "metadata": {
            "tags": []
          },
          "execution_count": 17
        }
      ]
    },
    {
      "cell_type": "code",
      "metadata": {
        "id": "9n4q_PvWyL_F"
      },
      "source": [
        "actions_df = pd.DataFrame(q_table, columns=['south', 'north', 'east', 'west', 'pickup', 'dropoff'])"
      ],
      "execution_count": null,
      "outputs": []
    },
    {
      "cell_type": "code",
      "metadata": {
        "id": "2GlUErcK2XdL"
      },
      "source": [
        "states = np.arange(1, 501)\n",
        "\n",
        "states_df = pd.DataFrame(states, columns = ['state'])"
      ],
      "execution_count": null,
      "outputs": []
    },
    {
      "cell_type": "code",
      "metadata": {
        "id": "47dmwrLm4Dzi"
      },
      "source": [
        "qtable_df = states_df.join(actions_df)"
      ],
      "execution_count": null,
      "outputs": []
    },
    {
      "cell_type": "code",
      "metadata": {
        "id": "3n8wfpYl9I4w"
      },
      "source": [
        "qtable_df = qtable_df.drop(columns = ['dropoff'])"
      ],
      "execution_count": null,
      "outputs": []
    },
    {
      "cell_type": "code",
      "metadata": {
        "colab": {
          "base_uri": "https://localhost:8080/",
          "height": 402
        },
        "id": "mZrSFXL94zYi",
        "outputId": "7eadf6ae-9095-4583-dec9-67132182f9b6"
      },
      "source": [
        "qtable_df"
      ],
      "execution_count": null,
      "outputs": [
        {
          "output_type": "execute_result",
          "data": {
            "text/html": [
              "<div>\n",
              "<style scoped>\n",
              "    .dataframe tbody tr th:only-of-type {\n",
              "        vertical-align: middle;\n",
              "    }\n",
              "\n",
              "    .dataframe tbody tr th {\n",
              "        vertical-align: top;\n",
              "    }\n",
              "\n",
              "    .dataframe thead th {\n",
              "        text-align: right;\n",
              "    }\n",
              "</style>\n",
              "<table border=\"1\" class=\"dataframe\">\n",
              "  <thead>\n",
              "    <tr style=\"text-align: right;\">\n",
              "      <th></th>\n",
              "      <th>state</th>\n",
              "      <th>south</th>\n",
              "      <th>north</th>\n",
              "      <th>east</th>\n",
              "      <th>west</th>\n",
              "      <th>pickup</th>\n",
              "    </tr>\n",
              "  </thead>\n",
              "  <tbody>\n",
              "    <tr>\n",
              "      <th>0</th>\n",
              "      <td>1</td>\n",
              "      <td>0.000000</td>\n",
              "      <td>0.000000</td>\n",
              "      <td>0.000000</td>\n",
              "      <td>0.000000</td>\n",
              "      <td>0.000000</td>\n",
              "    </tr>\n",
              "    <tr>\n",
              "      <th>1</th>\n",
              "      <td>2</td>\n",
              "      <td>-2.418371</td>\n",
              "      <td>-2.363951</td>\n",
              "      <td>-2.418371</td>\n",
              "      <td>-2.363951</td>\n",
              "      <td>-2.273252</td>\n",
              "    </tr>\n",
              "    <tr>\n",
              "      <th>2</th>\n",
              "      <td>3</td>\n",
              "      <td>-1.870144</td>\n",
              "      <td>-1.450240</td>\n",
              "      <td>-1.870144</td>\n",
              "      <td>-1.450240</td>\n",
              "      <td>-0.750400</td>\n",
              "    </tr>\n",
              "    <tr>\n",
              "      <th>3</th>\n",
              "      <td>4</td>\n",
              "      <td>-2.363951</td>\n",
              "      <td>-2.273252</td>\n",
              "      <td>-2.363951</td>\n",
              "      <td>-2.273252</td>\n",
              "      <td>-2.122086</td>\n",
              "    </tr>\n",
              "    <tr>\n",
              "      <th>4</th>\n",
              "      <td>5</td>\n",
              "      <td>-2.496192</td>\n",
              "      <td>-2.496704</td>\n",
              "      <td>-2.496192</td>\n",
              "      <td>-2.496777</td>\n",
              "      <td>-9.492856</td>\n",
              "    </tr>\n",
              "    <tr>\n",
              "      <th>...</th>\n",
              "      <td>...</td>\n",
              "      <td>...</td>\n",
              "      <td>...</td>\n",
              "      <td>...</td>\n",
              "      <td>...</td>\n",
              "      <td>...</td>\n",
              "    </tr>\n",
              "    <tr>\n",
              "      <th>495</th>\n",
              "      <td>496</td>\n",
              "      <td>0.000000</td>\n",
              "      <td>0.000000</td>\n",
              "      <td>0.000000</td>\n",
              "      <td>0.000000</td>\n",
              "      <td>0.000000</td>\n",
              "    </tr>\n",
              "    <tr>\n",
              "      <th>496</th>\n",
              "      <td>497</td>\n",
              "      <td>-2.143455</td>\n",
              "      <td>-2.122071</td>\n",
              "      <td>-2.169595</td>\n",
              "      <td>-2.122071</td>\n",
              "      <td>-7.646871</td>\n",
              "    </tr>\n",
              "    <tr>\n",
              "      <th>497</th>\n",
              "      <td>498</td>\n",
              "      <td>-1.045766</td>\n",
              "      <td>0.416000</td>\n",
              "      <td>-1.137130</td>\n",
              "      <td>-1.256841</td>\n",
              "      <td>-5.728661</td>\n",
              "    </tr>\n",
              "    <tr>\n",
              "      <th>498</th>\n",
              "      <td>499</td>\n",
              "      <td>-2.158058</td>\n",
              "      <td>-2.122047</td>\n",
              "      <td>-2.145972</td>\n",
              "      <td>-2.122043</td>\n",
              "      <td>-8.185935</td>\n",
              "    </tr>\n",
              "    <tr>\n",
              "      <th>499</th>\n",
              "      <td>500</td>\n",
              "      <td>3.960971</td>\n",
              "      <td>1.369750</td>\n",
              "      <td>4.387305</td>\n",
              "      <td>11.000000</td>\n",
              "      <td>-1.854725</td>\n",
              "    </tr>\n",
              "  </tbody>\n",
              "</table>\n",
              "<p>500 rows × 6 columns</p>\n",
              "</div>"
            ],
            "text/plain": [
              "     state     south     north      east       west    pickup\n",
              "0        1  0.000000  0.000000  0.000000   0.000000  0.000000\n",
              "1        2 -2.418371 -2.363951 -2.418371  -2.363951 -2.273252\n",
              "2        3 -1.870144 -1.450240 -1.870144  -1.450240 -0.750400\n",
              "3        4 -2.363951 -2.273252 -2.363951  -2.273252 -2.122086\n",
              "4        5 -2.496192 -2.496704 -2.496192  -2.496777 -9.492856\n",
              "..     ...       ...       ...       ...        ...       ...\n",
              "495    496  0.000000  0.000000  0.000000   0.000000  0.000000\n",
              "496    497 -2.143455 -2.122071 -2.169595  -2.122071 -7.646871\n",
              "497    498 -1.045766  0.416000 -1.137130  -1.256841 -5.728661\n",
              "498    499 -2.158058 -2.122047 -2.145972  -2.122043 -8.185935\n",
              "499    500  3.960971  1.369750  4.387305  11.000000 -1.854725\n",
              "\n",
              "[500 rows x 6 columns]"
            ]
          },
          "metadata": {
            "tags": []
          },
          "execution_count": 22
        }
      ]
    },
    {
      "cell_type": "code",
      "metadata": {
        "id": "YP-Ho59o3aNd"
      },
      "source": [
        "qtable_df.to_csv(\"qtable.csv\")"
      ],
      "execution_count": null,
      "outputs": []
    },
    {
      "cell_type": "code",
      "metadata": {
        "colab": {
          "base_uri": "https://localhost:8080/",
          "height": 338
        },
        "id": "TX655s0dgjb6",
        "outputId": "b2e336f1-bbf5-4f92-cf3e-11f40b52ac19"
      },
      "source": [
        "plt.figure(figsize=(12,5))\n",
        "plt.title(\"Steps / Episode length\")\n",
        "plt.bar(torch.arange(len(steps_total)), steps_total, alpha=0.6, color='red', width=5)\n",
        "plt.show()"
      ],
      "execution_count": null,
      "outputs": [
        {
          "output_type": "display_data",
          "data": {
            "image/png": "[encoded data removed]",
            "text/plain": [
              "<Figure size 864x360 with 1 Axes>"
            ]
          },
          "metadata": {
            "tags": []
          }
        }
      ]
    },
    {
      "cell_type": "markdown",
      "metadata": {
        "id": "5yqtSqZjMFrc"
      },
      "source": [
        "#Evaluating agent performance:"
      ]
    },
    {
      "cell_type": "code",
      "metadata": {
        "colab": {
          "base_uri": "https://localhost:8080/"
        },
        "id": "PQZEiqsBFWAI",
        "outputId": "6c90b8ed-5042-4392-a0fe-0fa6b3442b0b"
      },
      "source": [
        "\"\"\"Evaluate agent's performance after Q-learning\"\"\"\n",
        "\n",
        "frames_res = []\n",
        "total_epochs, total_penalties = 0, 0\n",
        "episodes = 100\n",
        "\n",
        "for _ in range(episodes):\n",
        "    state = env.reset()\n",
        "    epochs, penalties, reward = 0, 0, 0\n",
        "    \n",
        "    done = False\n",
        "    \n",
        "    while not done:\n",
        "        action = np.argmax(q_table[state])\n",
        "        state, reward, done, info = env.step(action)\n",
        "\n",
        "        if reward == -10:\n",
        "            penalties += 1\n",
        "\n",
        "        frames_res.append({\n",
        "        'frame': env.render(mode='ansi'),\n",
        "        'state': state,\n",
        "        'action': action,\n",
        "        'reward': reward\n",
        "          }\n",
        "        )\n",
        "\n",
        "        epochs += 1\n",
        "\n",
        "    total_penalties += penalties\n",
        "    total_epochs += epochs\n",
        "\n",
        "print(f\"Results after {episodes} episodes:\")\n",
        "print(f\"Average timesteps per episode: {total_epochs / episodes}\")\n",
        "print(f\"Average penalties per episode: {total_penalties / episodes}\")\n"
      ],
      "execution_count": null,
      "outputs": [
        {
          "output_type": "stream",
          "text": [
            "Results after 100 episodes:\n",
            "Average timesteps per episode: 12.56\n",
            "Average penalties per episode: 0.0\n"
          ],
          "name": "stdout"
        }
      ]
    },
    {
      "cell_type": "code",
      "metadata": {
        "colab": {
          "base_uri": "https://localhost:8080/",
          "height": 285
        },
        "id": "WZFY10CnO9s7",
        "outputId": "cb8c9db5-d771-4de4-ae86-180d179fcbed"
      },
      "source": [
        "timesteps = []\n",
        "cumulative_rewards = []\n",
        "\n",
        "print(\"Cumulative reward after training keeps increasing over time.\")\n",
        "\n",
        "show_rewards_over_time(timesteps, cumulative_rewards, frames_res)"
      ],
      "execution_count": null,
      "outputs": [
        {
          "output_type": "stream",
          "text": [
            "Cumulative reward after training keeps increasing over time.\n"
          ],
          "name": "stdout"
        },
        {
          "output_type": "display_data",
          "data": {
            "image/png": "[encoded data removed]",
            "text/plain": [
              "<Figure size 432x288 with 1 Axes>"
            ]
          },
          "metadata": {
            "tags": []
          }
        }
      ]
    },
    {
      "cell_type": "code",
      "metadata": {
        "id": "FfTZt8zcpAdu"
      },
      "source": [
        "timesteps_df = pd.DataFrame(timesteps, columns=['Timestep'])\n",
        "\n",
        "rewards_df = pd.DataFrame(cumulative_rewards , columns=['Cumulative Rewards'])\n",
        "\n",
        "cumulative_rewards_df = timesteps_df.join(rewards_df)"
      ],
      "execution_count": null,
      "outputs": []
    },
    {
      "cell_type": "code",
      "metadata": {
        "colab": {
          "base_uri": "https://localhost:8080/",
          "height": 402
        },
        "id": "PZlTILljpPNu",
        "outputId": "8ee259f5-cf30-4fdb-fa2a-acd1c9eb2982"
      },
      "source": [
        "cumulative_rewards_df"
      ],
      "execution_count": null,
      "outputs": [
        {
          "output_type": "execute_result",
          "data": {
            "text/html": [
              "<div>\n",
              "<style scoped>\n",
              "    .dataframe tbody tr th:only-of-type {\n",
              "        vertical-align: middle;\n",
              "    }\n",
              "\n",
              "    .dataframe tbody tr th {\n",
              "        vertical-align: top;\n",
              "    }\n",
              "\n",
              "    .dataframe thead th {\n",
              "        text-align: right;\n",
              "    }\n",
              "</style>\n",
              "<table border=\"1\" class=\"dataframe\">\n",
              "  <thead>\n",
              "    <tr style=\"text-align: right;\">\n",
              "      <th></th>\n",
              "      <th>Timestep</th>\n",
              "      <th>Cumulative Rewards</th>\n",
              "    </tr>\n",
              "  </thead>\n",
              "  <tbody>\n",
              "    <tr>\n",
              "      <th>0</th>\n",
              "      <td>0</td>\n",
              "      <td>-1</td>\n",
              "    </tr>\n",
              "    <tr>\n",
              "      <th>1</th>\n",
              "      <td>1</td>\n",
              "      <td>-2</td>\n",
              "    </tr>\n",
              "    <tr>\n",
              "      <th>2</th>\n",
              "      <td>2</td>\n",
              "      <td>-3</td>\n",
              "    </tr>\n",
              "    <tr>\n",
              "      <th>3</th>\n",
              "      <td>3</td>\n",
              "      <td>-4</td>\n",
              "    </tr>\n",
              "    <tr>\n",
              "      <th>4</th>\n",
              "      <td>4</td>\n",
              "      <td>-5</td>\n",
              "    </tr>\n",
              "    <tr>\n",
              "      <th>...</th>\n",
              "      <td>...</td>\n",
              "      <td>...</td>\n",
              "    </tr>\n",
              "    <tr>\n",
              "      <th>1251</th>\n",
              "      <td>1251</td>\n",
              "      <td>827</td>\n",
              "    </tr>\n",
              "    <tr>\n",
              "      <th>1252</th>\n",
              "      <td>1252</td>\n",
              "      <td>826</td>\n",
              "    </tr>\n",
              "    <tr>\n",
              "      <th>1253</th>\n",
              "      <td>1253</td>\n",
              "      <td>825</td>\n",
              "    </tr>\n",
              "    <tr>\n",
              "      <th>1254</th>\n",
              "      <td>1254</td>\n",
              "      <td>824</td>\n",
              "    </tr>\n",
              "    <tr>\n",
              "      <th>1255</th>\n",
              "      <td>1255</td>\n",
              "      <td>844</td>\n",
              "    </tr>\n",
              "  </tbody>\n",
              "</table>\n",
              "<p>1256 rows × 2 columns</p>\n",
              "</div>"
            ],
            "text/plain": [
              "      Timestep  Cumulative Rewards\n",
              "0            0                  -1\n",
              "1            1                  -2\n",
              "2            2                  -3\n",
              "3            3                  -4\n",
              "4            4                  -5\n",
              "...        ...                 ...\n",
              "1251      1251                 827\n",
              "1252      1252                 826\n",
              "1253      1253                 825\n",
              "1254      1254                 824\n",
              "1255      1255                 844\n",
              "\n",
              "[1256 rows x 2 columns]"
            ]
          },
          "metadata": {
            "tags": []
          },
          "execution_count": 40
        }
      ]
    },
    {
      "cell_type": "code",
      "metadata": {
        "colab": {
          "base_uri": "https://localhost:8080/"
        },
        "id": "a5aPCVhJIJum",
        "outputId": "48fcf702-d958-45c5-cf35-9fbf1ed6d769"
      },
      "source": [
        "print_frames(frames_res)"
      ],
      "execution_count": null,
      "outputs": [
        {
          "output_type": "stream",
          "text": [
            "+---------+\n",
            "|R: | : :G|\n",
            "| : | : : |\n",
            "| : : : : |\n",
            "| | : | : |\n",
            "|\u001b[35m\u001b[34;1m\u001b[43mY\u001b[0m\u001b[0m\u001b[0m| : |B: |\n",
            "+---------+\n",
            "  (Dropoff)\n",
            "\n",
            "Timestep: 1256\n",
            "State: 410\n",
            "Action: 5\n",
            "Reward: 20\n"
          ],
          "name": "stdout"
        }
      ]
    }
  ]
}